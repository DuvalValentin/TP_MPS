{
 "cells": [
  {
   "cell_type": "code",
   "execution_count": null,
   "metadata": {},
   "outputs": [],
   "source": [
    "from mobilechelonian import Turtle"
   ]
  },
  {
   "cell_type": "code",
   "execution_count": null,
   "metadata": {},
   "outputs": [],
   "source": [
    "def Tree (size,turtle):\n",
    "    if(size<5):\n",
    "        turtle.forward(size)\n",
    "        turtle.backward(size)\n",
    "    else:\n",
    "        turtle.forward(size/3)\n",
    "        turtle.left(30)\n",
    "        Tree(size*2/3,turtle)\n",
    "        turtle.right(30)\n",
    "        turtle.forward(size/6)\n",
    "        turtle.right(25)\n",
    "        Tree(size/2,turtle)\n",
    "        turtle.left(25)\n",
    "        turtle.forward(size/3)\n",
    "        turtle.right(25)\n",
    "        Tree(size/2,turtle)\n",
    "        turtle.left(25)\n",
    "        turtle.forward(size/6)\n",
    "        turtle.backward(size)\n",
    "        "
   ]
  },
  {
   "cell_type": "code",
   "execution_count": null,
   "metadata": {},
   "outputs": [],
   "source": [
    "turtleTree = Turtle()\n",
    "turtleTree.speed(10)\n",
    "turtleTree.left(90)\n",
    "turtleTree.pencolor(\"black\")\n",
    "turtleTree.pendown()\n",
    "\n",
    "Tree(40,turtleTree)"
   ]
  },
  {
   "cell_type": "code",
   "execution_count": null,
   "metadata": {},
   "outputs": [],
   "source": [
    "def Fern (size,sign,turtle):\n",
    "    if size >= 1:\n",
    "        turtle.forward(size)\n",
    "        turtle.right(70*sign)\n",
    "        Fern(size/2,sign*-1,turtle)\n",
    "        turtle.left(70*sign)\n",
    "        turtle.forward(size)\n",
    "        turtle.left(70*sign)\n",
    "        Fern(size/2,sign,turtle)\n",
    "        turtle.right(77*sign)\n",
    "        Fern(size-1,sign,turtle)\n",
    "        turtle.left(7*sign)\n",
    "        turtle.backward(size*2)"
   ]
  },
  {
   "cell_type": "code",
   "execution_count": null,
   "metadata": {},
   "outputs": [],
   "source": [
    "turtleFern = Turtle()\n",
    "turtleFern.left(90)\n",
    "turtleFern.speed(10)\n",
    "turtleFern.pencolor(\"black\")\n",
    "\n",
    "Fern(10,1,turtleFern)"
   ]
  },
  {
   "cell_type": "code",
   "execution_count": null,
   "metadata": {},
   "outputs": [],
   "source": []
  }
 ],
 "metadata": {
  "kernelspec": {
   "display_name": "Python 3",
   "language": "python",
   "name": "python3"
  },
  "language_info": {
   "codemirror_mode": {
    "name": "ipython",
    "version": 3
   },
   "file_extension": ".py",
   "mimetype": "text/x-python",
   "name": "python",
   "nbconvert_exporter": "python",
   "pygments_lexer": "ipython3",
   "version": "3.7.4"
  }
 },
 "nbformat": 4,
 "nbformat_minor": 1
}
